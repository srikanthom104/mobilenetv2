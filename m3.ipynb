{
  "nbformat": 4,
  "nbformat_minor": 0,
  "metadata": {
    "colab": {
      "name": "m3.ipynb",
      "provenance": [],
      "authorship_tag": "ABX9TyO5mAeGOuPH6oPE9pJU60Pp",
      "include_colab_link": true
    },
    "kernelspec": {
      "name": "python3",
      "display_name": "Python 3"
    }
  },
  "cells": [
    {
      "cell_type": "markdown",
      "metadata": {
        "id": "view-in-github",
        "colab_type": "text"
      },
      "source": [
        "<a href=\"https://colab.research.google.com/github/srikanthom104/mobilenetv2/blob/master/m3.ipynb\" target=\"_parent\"><img src=\"https://colab.research.google.com/assets/colab-badge.svg\" alt=\"Open In Colab\"/></a>"
      ]
    },
    {
      "cell_type": "code",
      "metadata": {
        "id": "hgvIKNGPtzCR",
        "colab_type": "code",
        "colab": {}
      },
      "source": [
        "#my first line: Hello m3."
      ],
      "execution_count": 0,
      "outputs": []
    }
  ]
}